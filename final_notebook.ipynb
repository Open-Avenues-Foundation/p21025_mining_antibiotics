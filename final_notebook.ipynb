{
 "cells": [
  {
   "cell_type": "code",
   "metadata": {
    "tags": [],
    "cell_id": "00000-f585dabb-f1e4-4fbe-ab31-eddcc85120dd",
    "deepnote_to_be_reexecuted": false,
    "source_hash": "8ad57f32",
    "execution_start": 1635377186151,
    "execution_millis": 4,
    "deepnote_cell_type": "code"
   },
   "source": "# Start writing code here...",
   "execution_count": null,
   "outputs": []
  },
  {
   "cell_type": "markdown",
   "source": "# Exercises for Session 5\n\nStart a blank deepnote notebook and work on the exercises below. You should reuse code that we used in previous session. Be sure to use `Code` cells when you want to execute code and `Markdown` (You can find markdown by creating a new cell with `+Block` and then clicking on `Markdown`) cells when you want to document your steps.\n\n## Create an overview of genome statistics\n\nCreate an overview of genome statistics for Aspergillus and Penicillium species from the [antiSMASH databse](https://antismash-db.secondarymetabolites.org).\n\n*  Visit the [browse section of the antismash database](https://antismash-db.secondarymetabolites.org/browse.html)\n* Go through the taxonomy to get the Aspergillus and Penicillium species. If you don't know the taxonomy you can look it up on [NCBI](https://www.ncbi.nlm.nih.gov/taxonomy)\n  * Download the corresponding antismash files for *three* organisms of your choice by\n    * clicking on the organism name in the antismash overview\n    * Now that you are in the overview, click on the download icon and select *Download genbank summary file*\n    * Rename the file to something that's easy to use in scripts, e.g. the species name\n    * upload the file to deepnote\n* Create an overview of genome statistics for each organism (does not need to be combined), you choose how to plot it or create a table similar to *Table 1* in [this publication](https://www.pnas.org/content/115/4/E753)\n\nConditions:\n* It's sufficient to only display Genome size in Mbp, number of proteins, number of contigs and number of scaffolds > 2kbps\n  * Go through the [pandas tutorial](https://pandas.pydata.org/docs/getting_started/intro_tutorials/index.html), especially [Dataframe aggregation](https://pandas.pydata.org/docs/reference/api/pandas.DataFrame.agg.html) and [Series aggregation](https://pandas.pydata.org/docs/reference/api/pandas.Series.agg.html)\n  * to calculate the counts you'll need to select the [correct columns/ subset of the dataframe](https://pandas.pydata.org/docs/getting_started/intro_tutorials/03_subset_data.html) use pandas functions like `drop_duplicates()` and `agg`\n\nFor this task you'll need to use the functions we created to read the CDS data from *Biopython* `records`.\n\nExtra task:\n* How can you show the generated statistics for all organisms in the same table/ plot?\n\n## Create an overview of secondary metabolite genes\n\nThe files you downloaded from the antiSMASH database not only contain CDS annotation, but also antismash cluster annotations.\n\n* Use the functions extracting the antiSMASH *\"product\"* from the Biopython `record`.\n* For each organism, create a table or a barplot using `seaborn` of the *\"products\"*.\n\nExtra task:\n\nExtra task:\n* How can you show the generated statistics for all organisms in the same table/ plot?",
   "metadata": {
    "tags": [],
    "cell_id": "00001-5546e4cd-3d89-4dc1-91a9-9923fbfcb5b5",
    "deepnote_cell_type": "markdown"
   }
  },
  {
   "cell_type": "code",
   "metadata": {
    "tags": [],
    "cell_id": "00002-e112313b-3768-4a32-bfd5-cebaf721d7bb",
    "deepnote_to_be_reexecuted": false,
    "source_hash": "e869e671",
    "execution_start": 1635377186215,
    "execution_millis": 21911,
    "deepnote_cell_type": "code"
   },
   "source": "\"\"\"\nWrite your comments\nhere\n\"\"\"\n\nfrom Bio import SeqIO\nfrom Bio.SeqRecord import SeqRecord\nimport pandas as pd\n\ndef get_df(recs):\n    assert isinstance(recs, list), \"Need a list as input\"\n    assert isinstance(recs[0], SeqRecord), \"The input list should contain SeqRecord objects\"\n    fdicts = [] # FROM HERE\n    for r in recs:\n        for feature in r.features:\n            if feature.type==\"CDS\":\n                d = dict(feature.qualifiers)\n                for k,v in d.items():\n                    if len(v)==1:\n                        d[k] = v[0]\n                d['contig_id'] = r.id\n                d['contig_len'] = len(str(r.seq))\n                fdicts.append(d)\n    dfa = pd.DataFrame(fdicts) \n    return dfa\n\n\nr_nidulans = list(SeqIO.parse(\"aspergillus_nidulans.gbk\", \"genbank\"))\ndf_nidulans = get_df(r_nidulans)\ndf_nidulans['org'] = \"A. nidulans\"\n\nr_tubingensis = list(SeqIO.parse(\"aspergillus_tubingensis.gbk\", \"genbank\"))\ndf_tubingensis = get_df(r_tubingensis)\ndf_tubingensis['org'] = \"A. tubingensis\"",
   "execution_count": null,
   "outputs": []
  },
  {
   "cell_type": "code",
   "metadata": {
    "tags": [],
    "cell_id": "00003-7d25bdbe-7d25-4ae6-aa30-bbdd3e5caaa7",
    "deepnote_to_be_reexecuted": false,
    "source_hash": "a9f837a5",
    "execution_start": 1635377208139,
    "execution_millis": 37,
    "deepnote_cell_type": "code"
   },
   "source": "\"\"\"\nWrite your comments\nhere\n\"\"\"\ndf_all = pd.concat([df_nidulans, df_tubingensis])\ndf_nidulans['protein_id'].size # get number of protein products\ndf_tmp = df_nidulans[['contig_id', 'contig_len']].drop_duplicates() # number of unique contigs\ndf_tmp['contig_len'].sum() # genome size\n",
   "execution_count": null,
   "outputs": [
    {
     "output_type": "execute_result",
     "execution_count": 3,
     "data": {
      "text/plain": "30200029"
     },
     "metadata": {}
    }
   ]
  },
  {
   "cell_type": "code",
   "metadata": {
    "tags": [],
    "cell_id": "00004-46f1e8d4-9e2d-4f1d-baee-ebd03397626f",
    "deepnote_to_be_reexecuted": false,
    "source_hash": "950be031",
    "execution_start": 1635377208182,
    "execution_millis": 63,
    "deepnote_cell_type": "code"
   },
   "source": "\"\"\"\nWrite your comments\nhere\n\"\"\"\ndf_all['protein_count_by_contig'] = df_all.groupby('contig_id')['protein_id'].transform(pd.Series.nunique)",
   "execution_count": null,
   "outputs": []
  },
  {
   "cell_type": "code",
   "metadata": {
    "tags": [],
    "cell_id": "00005-8b758a79-bdc9-4a6c-8d67-a8ad1078c1a1",
    "deepnote_to_be_reexecuted": false,
    "source_hash": "d6f5ea3b",
    "execution_start": 1635377208255,
    "execution_millis": 28,
    "deepnote_cell_type": "code"
   },
   "source": "\"\"\"\nWrite your comments\nhere\n\"\"\"\ndf_subset = df_all[\n    ['org', 'contig_id',\n    'contig_len',\n    'protein_count_by_contig']\n    ].drop_duplicates()",
   "execution_count": null,
   "outputs": []
  },
  {
   "cell_type": "code",
   "metadata": {
    "tags": [],
    "cell_id": "00006-d2b5fb8f-3e69-43ed-99cd-9529d0ce11ba",
    "deepnote_to_be_reexecuted": false,
    "source_hash": "a5de434a",
    "execution_start": 1635377208303,
    "execution_millis": 81,
    "deepnote_cell_type": "code"
   },
   "source": "\"\"\"\nWrite your comments\nhere\n\"\"\"\ndf_subset",
   "execution_count": null,
   "outputs": [
    {
     "output_type": "execute_result",
     "execution_count": 6,
     "data": {
      "application/vnd.deepnote.dataframe.v2+json": {
       "row_count": 92,
       "column_count": 4,
       "columns": [
        {
         "name": "org",
         "dtype": "object",
         "stats": {
          "unique_count": 2,
          "nan_count": 0,
          "categories": [
           {
            "name": "A. nidulans",
            "count": 77
           },
           {
            "name": "A. tubingensis",
            "count": 15
           }
          ]
         }
        },
        {
         "name": "contig_id",
         "dtype": "object",
         "stats": {
          "unique_count": 92,
          "nan_count": 0,
          "categories": [
           {
            "name": "NT_107008.1",
            "count": 1
           },
           {
            "name": "NT_107009.1",
            "count": 1
           },
           {
            "name": "90 others",
            "count": 90
           }
          ]
         }
        },
        {
         "name": "contig_len",
         "dtype": "int64",
         "stats": {
          "unique_count": 92,
          "nan_count": 0,
          "min": "2259",
          "max": "5352870",
          "histogram": [
           {
            "bin_start": 2259,
            "bin_end": 537320.1,
            "count": 62
           },
           {
            "bin_start": 537320.1,
            "bin_end": 1072381.2,
            "count": 7
           },
           {
            "bin_start": 1072381.2,
            "bin_end": 1607442.2999999998,
            "count": 6
           },
           {
            "bin_start": 1607442.2999999998,
            "bin_end": 2142503.4,
            "count": 4
           },
           {
            "bin_start": 2142503.4,
            "bin_end": 2677564.5,
            "count": 5
           },
           {
            "bin_start": 2677564.5,
            "bin_end": 3212625.5999999996,
            "count": 2
           },
           {
            "bin_start": 3212625.5999999996,
            "bin_end": 3747686.6999999997,
            "count": 1
           },
           {
            "bin_start": 3747686.6999999997,
            "bin_end": 4282747.8,
            "count": 3
           },
           {
            "bin_start": 4282747.8,
            "bin_end": 4817808.899999999,
            "count": 1
           },
           {
            "bin_start": 4817808.899999999,
            "bin_end": 5352870,
            "count": 1
           }
          ]
         }
        },
        {
         "name": "protein_count_by_contig",
         "dtype": "int64",
         "stats": {
          "unique_count": 38,
          "nan_count": 0,
          "min": "1",
          "max": "1728",
          "histogram": [
           {
            "bin_start": 1,
            "bin_end": 173.7,
            "count": 62
           },
           {
            "bin_start": 173.7,
            "bin_end": 346.4,
            "count": 7
           },
           {
            "bin_start": 346.4,
            "bin_end": 519.0999999999999,
            "count": 6
           },
           {
            "bin_start": 519.0999999999999,
            "bin_end": 691.8,
            "count": 4
           },
           {
            "bin_start": 691.8,
            "bin_end": 864.5,
            "count": 6
           },
           {
            "bin_start": 864.5,
            "bin_end": 1037.1999999999998,
            "count": 1
           },
           {
            "bin_start": 1037.1999999999998,
            "bin_end": 1209.8999999999999,
            "count": 1
           },
           {
            "bin_start": 1209.8999999999999,
            "bin_end": 1382.6,
            "count": 2
           },
           {
            "bin_start": 1382.6,
            "bin_end": 1555.3,
            "count": 2
           },
           {
            "bin_start": 1555.3,
            "bin_end": 1728,
            "count": 1
           }
          ]
         }
        },
        {
         "name": "_deepnote_index_column",
         "dtype": "int64"
        }
       ],
       "rows_top": [
        {
         "org": "A. nidulans",
         "contig_id": "NT_107008.1",
         "contig_len": "1482181",
         "protein_count_by_contig": "486",
         "_deepnote_index_column": "0"
        },
        {
         "org": "A. nidulans",
         "contig_id": "NT_107009.1",
         "contig_len": "2200800",
         "protein_count_by_contig": "689",
         "_deepnote_index_column": "486"
        },
        {
         "org": "A. nidulans",
         "contig_id": "NW_101435.1",
         "contig_len": "8226",
         "protein_count_by_contig": "5",
         "_deepnote_index_column": "1175"
        },
        {
         "org": "A. nidulans",
         "contig_id": "NT_107005.1",
         "contig_len": "1394314",
         "protein_count_by_contig": "445",
         "_deepnote_index_column": "1180"
        },
        {
         "org": "A. nidulans",
         "contig_id": "NT_107012.1",
         "contig_len": "2569337",
         "protein_count_by_contig": "818",
         "_deepnote_index_column": "1625"
        },
        {
         "org": "A. nidulans",
         "contig_id": "NT_107003.1",
         "contig_len": "918180",
         "protein_count_by_contig": "292",
         "_deepnote_index_column": "2443"
        },
        {
         "org": "A. nidulans",
         "contig_id": "NT_107011.1",
         "contig_len": "2478513",
         "protein_count_by_contig": "804",
         "_deepnote_index_column": "2735"
        },
        {
         "org": "A. nidulans",
         "contig_id": "NW_101424.1",
         "contig_len": "10603",
         "protein_count_by_contig": "3",
         "_deepnote_index_column": "3539"
        },
        {
         "org": "A. nidulans",
         "contig_id": "NW_101455.1",
         "contig_len": "6579",
         "protein_count_by_contig": "2",
         "_deepnote_index_column": "3542"
        },
        {
         "org": "A. nidulans",
         "contig_id": "NT_107001.1",
         "contig_len": "569832",
         "protein_count_by_contig": "180",
         "_deepnote_index_column": "3544"
        },
        {
         "org": "A. nidulans",
         "contig_id": "NT_107006.1",
         "contig_len": "1389557",
         "protein_count_by_contig": "427",
         "_deepnote_index_column": "3724"
        },
        {
         "org": "A. nidulans",
         "contig_id": "NT_107007.1",
         "contig_len": "1433976",
         "protein_count_by_contig": "449",
         "_deepnote_index_column": "4151"
        },
        {
         "org": "A. nidulans",
         "contig_id": "NT_107010.1",
         "contig_len": "2216585",
         "protein_count_by_contig": "703",
         "_deepnote_index_column": "4600"
        },
        {
         "org": "A. nidulans",
         "contig_id": "NT_107013.1",
         "contig_len": "2779125",
         "protein_count_by_contig": "854",
         "_deepnote_index_column": "5303"
        },
        {
         "org": "A. nidulans",
         "contig_id": "NT_107002.1",
         "contig_len": "593088",
         "protein_count_by_contig": "186",
         "_deepnote_index_column": "6157"
        },
        {
         "org": "A. nidulans",
         "contig_id": "NT_107014.1",
         "contig_len": "3849746",
         "protein_count_by_contig": "1211",
         "_deepnote_index_column": "6343"
        },
        {
         "org": "A. nidulans",
         "contig_id": "NT_107000.1",
         "contig_len": "560114",
         "protein_count_by_contig": "174",
         "_deepnote_index_column": "7554"
        },
        {
         "org": "A. nidulans",
         "contig_id": "NT_107015.1",
         "contig_len": "4306251",
         "protein_count_by_contig": "1403",
         "_deepnote_index_column": "7728"
        },
        {
         "org": "A. nidulans",
         "contig_id": "NT_107004.1",
         "contig_len": "957105",
         "protein_count_by_contig": "285",
         "_deepnote_index_column": "9131"
        },
        {
         "org": "A. nidulans",
         "contig_id": "NW_101415.1",
         "contig_len": "26679",
         "protein_count_by_contig": "7",
         "_deepnote_index_column": "9416"
        },
        {
         "org": "A. nidulans",
         "contig_id": "NW_101416.1",
         "contig_len": "19880",
         "protein_count_by_contig": "7",
         "_deepnote_index_column": "9423"
        },
        {
         "org": "A. nidulans",
         "contig_id": "NW_101417.1",
         "contig_len": "15731",
         "protein_count_by_contig": "2",
         "_deepnote_index_column": "9430"
        },
        {
         "org": "A. nidulans",
         "contig_id": "NW_101418.1",
         "contig_len": "14522",
         "protein_count_by_contig": "4",
         "_deepnote_index_column": "9432"
        },
        {
         "org": "A. nidulans",
         "contig_id": "NW_101419.1",
         "contig_len": "12319",
         "protein_count_by_contig": "2",
         "_deepnote_index_column": "9436"
        },
        {
         "org": "A. nidulans",
         "contig_id": "NW_101420.1",
         "contig_len": "11756",
         "protein_count_by_contig": "3",
         "_deepnote_index_column": "9438"
        },
        {
         "org": "A. nidulans",
         "contig_id": "NW_101421.1",
         "contig_len": "11235",
         "protein_count_by_contig": "3",
         "_deepnote_index_column": "9441"
        },
        {
         "org": "A. nidulans",
         "contig_id": "NW_101422.1",
         "contig_len": "10660",
         "protein_count_by_contig": "3",
         "_deepnote_index_column": "9444"
        },
        {
         "org": "A. nidulans",
         "contig_id": "NW_101423.1",
         "contig_len": "10620",
         "protein_count_by_contig": "3",
         "_deepnote_index_column": "9447"
        },
        {
         "org": "A. nidulans",
         "contig_id": "NW_101427.1",
         "contig_len": "10198",
         "protein_count_by_contig": "3",
         "_deepnote_index_column": "9450"
        },
        {
         "org": "A. nidulans",
         "contig_id": "NW_101428.1",
         "contig_len": "10087",
         "protein_count_by_contig": "1",
         "_deepnote_index_column": "9453"
        },
        {
         "org": "A. nidulans",
         "contig_id": "NW_101429.1",
         "contig_len": "10072",
         "protein_count_by_contig": "3",
         "_deepnote_index_column": "9454"
        },
        {
         "org": "A. nidulans",
         "contig_id": "NW_101430.1",
         "contig_len": "10019",
         "protein_count_by_contig": "3",
         "_deepnote_index_column": "9457"
        },
        {
         "org": "A. nidulans",
         "contig_id": "NW_101431.1",
         "contig_len": "9210",
         "protein_count_by_contig": "3",
         "_deepnote_index_column": "9460"
        },
        {
         "org": "A. nidulans",
         "contig_id": "NW_101432.1",
         "contig_len": "9200",
         "protein_count_by_contig": "2",
         "_deepnote_index_column": "9463"
        },
        {
         "org": "A. nidulans",
         "contig_id": "NW_101433.1",
         "contig_len": "9030",
         "protein_count_by_contig": "3",
         "_deepnote_index_column": "9465"
        },
        {
         "org": "A. nidulans",
         "contig_id": "NW_101434.1",
         "contig_len": "8744",
         "protein_count_by_contig": "1",
         "_deepnote_index_column": "9468"
        },
        {
         "org": "A. nidulans",
         "contig_id": "NW_101436.1",
         "contig_len": "8077",
         "protein_count_by_contig": "2",
         "_deepnote_index_column": "9469"
        },
        {
         "org": "A. nidulans",
         "contig_id": "NW_101437.1",
         "contig_len": "8076",
         "protein_count_by_contig": "3",
         "_deepnote_index_column": "9471"
        },
        {
         "org": "A. nidulans",
         "contig_id": "NW_101438.1",
         "contig_len": "7797",
         "protein_count_by_contig": "2",
         "_deepnote_index_column": "9474"
        },
        {
         "org": "A. nidulans",
         "contig_id": "NW_101439.1",
         "contig_len": "7688",
         "protein_count_by_contig": "3",
         "_deepnote_index_column": "9476"
        },
        {
         "org": "A. nidulans",
         "contig_id": "NW_101440.1",
         "contig_len": "7686",
         "protein_count_by_contig": "1",
         "_deepnote_index_column": "9479"
        },
        {
         "org": "A. nidulans",
         "contig_id": "NW_101441.1",
         "contig_len": "7501",
         "protein_count_by_contig": "1",
         "_deepnote_index_column": "9480"
        },
        {
         "org": "A. nidulans",
         "contig_id": "NW_101442.1",
         "contig_len": "7389",
         "protein_count_by_contig": "2",
         "_deepnote_index_column": "9481"
        },
        {
         "org": "A. nidulans",
         "contig_id": "NW_101443.1",
         "contig_len": "7303",
         "protein_count_by_contig": "3",
         "_deepnote_index_column": "9483"
        },
        {
         "org": "A. nidulans",
         "contig_id": "NW_101445.1",
         "contig_len": "6994",
         "protein_count_by_contig": "2",
         "_deepnote_index_column": "9486"
        },
        {
         "org": "A. nidulans",
         "contig_id": "NW_101446.1",
         "contig_len": "6930",
         "protein_count_by_contig": "1",
         "_deepnote_index_column": "9488"
        },
        {
         "org": "A. nidulans",
         "contig_id": "NW_101447.1",
         "contig_len": "6924",
         "protein_count_by_contig": "2",
         "_deepnote_index_column": "9489"
        },
        {
         "org": "A. nidulans",
         "contig_id": "NW_101449.1",
         "contig_len": "6838",
         "protein_count_by_contig": "5",
         "_deepnote_index_column": "9491"
        },
        {
         "org": "A. nidulans",
         "contig_id": "NW_101450.1",
         "contig_len": "6773",
         "protein_count_by_contig": "1",
         "_deepnote_index_column": "9496"
        },
        {
         "org": "A. nidulans",
         "contig_id": "NW_101451.1",
         "contig_len": "6735",
         "protein_count_by_contig": "2",
         "_deepnote_index_column": "9497"
        },
        {
         "org": "A. nidulans",
         "contig_id": "NW_101453.1",
         "contig_len": "6710",
         "protein_count_by_contig": "1",
         "_deepnote_index_column": "9499"
        },
        {
         "org": "A. nidulans",
         "contig_id": "NW_101456.1",
         "contig_len": "6468",
         "protein_count_by_contig": "1",
         "_deepnote_index_column": "9500"
        },
        {
         "org": "A. nidulans",
         "contig_id": "NW_101457.1",
         "contig_len": "6436",
         "protein_count_by_contig": "1",
         "_deepnote_index_column": "9501"
        },
        {
         "org": "A. nidulans",
         "contig_id": "NW_101460.1",
         "contig_len": "6367",
         "protein_count_by_contig": "1",
         "_deepnote_index_column": "9502"
        },
        {
         "org": "A. nidulans",
         "contig_id": "NW_101461.1",
         "contig_len": "6090",
         "protein_count_by_contig": "2",
         "_deepnote_index_column": "9503"
        },
        {
         "org": "A. nidulans",
         "contig_id": "NW_101462.1",
         "contig_len": "5785",
         "protein_count_by_contig": "2",
         "_deepnote_index_column": "9505"
        },
        {
         "org": "A. nidulans",
         "contig_id": "NW_101463.1",
         "contig_len": "5781",
         "protein_count_by_contig": "1",
         "_deepnote_index_column": "9507"
        },
        {
         "org": "A. nidulans",
         "contig_id": "NW_101464.1",
         "contig_len": "5626",
         "protein_count_by_contig": "1",
         "_deepnote_index_column": "9508"
        },
        {
         "org": "A. nidulans",
         "contig_id": "NW_101465.1",
         "contig_len": "5623",
         "protein_count_by_contig": "1",
         "_deepnote_index_column": "9509"
        },
        {
         "org": "A. nidulans",
         "contig_id": "NW_101466.1",
         "contig_len": "5462",
         "protein_count_by_contig": "1",
         "_deepnote_index_column": "9510"
        },
        {
         "org": "A. nidulans",
         "contig_id": "NW_101468.1",
         "contig_len": "5437",
         "protein_count_by_contig": "1",
         "_deepnote_index_column": "9511"
        },
        {
         "org": "A. nidulans",
         "contig_id": "NW_101469.1",
         "contig_len": "5427",
         "protein_count_by_contig": "3",
         "_deepnote_index_column": "9512"
        },
        {
         "org": "A. nidulans",
         "contig_id": "NW_101470.1",
         "contig_len": "5381",
         "protein_count_by_contig": "2",
         "_deepnote_index_column": "9515"
        },
        {
         "org": "A. nidulans",
         "contig_id": "NW_101471.1",
         "contig_len": "5336",
         "protein_count_by_contig": "1",
         "_deepnote_index_column": "9517"
        },
        {
         "org": "A. nidulans",
         "contig_id": "NW_101472.1",
         "contig_len": "5185",
         "protein_count_by_contig": "1",
         "_deepnote_index_column": "9518"
        },
        {
         "org": "A. nidulans",
         "contig_id": "NW_101474.1",
         "contig_len": "4981",
         "protein_count_by_contig": "2",
         "_deepnote_index_column": "9519"
        },
        {
         "org": "A. nidulans",
         "contig_id": "NW_101475.1",
         "contig_len": "4876",
         "protein_count_by_contig": "4",
         "_deepnote_index_column": "9521"
        },
        {
         "org": "A. nidulans",
         "contig_id": "NW_101476.1",
         "contig_len": "4760",
         "protein_count_by_contig": "2",
         "_deepnote_index_column": "9525"
        },
        {
         "org": "A. nidulans",
         "contig_id": "NW_101477.1",
         "contig_len": "4673",
         "protein_count_by_contig": "1",
         "_deepnote_index_column": "9527"
        },
        {
         "org": "A. nidulans",
         "contig_id": "NW_101478.1",
         "contig_len": "4650",
         "protein_count_by_contig": "1",
         "_deepnote_index_column": "9528"
        },
        {
         "org": "A. nidulans",
         "contig_id": "NW_101482.1",
         "contig_len": "3865",
         "protein_count_by_contig": "1",
         "_deepnote_index_column": "9529"
        },
        {
         "org": "A. nidulans",
         "contig_id": "NW_101484.1",
         "contig_len": "3623",
         "protein_count_by_contig": "2",
         "_deepnote_index_column": "9530"
        },
        {
         "org": "A. nidulans",
         "contig_id": "NW_101485.1",
         "contig_len": "3100",
         "protein_count_by_contig": "1",
         "_deepnote_index_column": "9532"
        },
        {
         "org": "A. nidulans",
         "contig_id": "NW_101486.1",
         "contig_len": "3093",
         "protein_count_by_contig": "1",
         "_deepnote_index_column": "9533"
        },
        {
         "org": "A. nidulans",
         "contig_id": "NW_101487.1",
         "contig_len": "3023",
         "protein_count_by_contig": "1",
         "_deepnote_index_column": "9534"
        },
        {
         "org": "A. nidulans",
         "contig_id": "NW_101489.1",
         "contig_len": "2259",
         "protein_count_by_contig": "1",
         "_deepnote_index_column": "9535"
        },
        {
         "org": "A. nidulans",
         "contig_id": "NC_017896.1",
         "contig_len": "33227",
         "protein_count_by_contig": "20",
         "_deepnote_index_column": "9536"
        },
        {
         "org": "A. tubingensis",
         "contig_id": "NW_023336275.1",
         "contig_len": "1624090",
         "protein_count_by_contig": "563",
         "_deepnote_index_column": "0"
        },
        {
         "org": "A. tubingensis",
         "contig_id": "NW_023336276.1",
         "contig_len": "1845710",
         "protein_count_by_contig": "644",
         "_deepnote_index_column": "563"
        },
        {
         "org": "A. tubingensis",
         "contig_id": "NW_023336277.1",
         "contig_len": "4273126",
         "protein_count_by_contig": "1341",
         "_deepnote_index_column": "1207"
        },
        {
         "org": "A. tubingensis",
         "contig_id": "NW_023336278.1",
         "contig_len": "2427308",
         "protein_count_by_contig": "793",
         "_deepnote_index_column": "2548"
        },
        {
         "org": "A. tubingensis",
         "contig_id": "NW_023336279.1",
         "contig_len": "1314175",
         "protein_count_by_contig": "410",
         "_deepnote_index_column": "3341"
        },
        {
         "org": "A. tubingensis",
         "contig_id": "NW_023336280.1",
         "contig_len": "3607093",
         "protein_count_by_contig": "1205",
         "_deepnote_index_column": "3751"
        },
        {
         "org": "A. tubingensis",
         "contig_id": "NW_023336281.1",
         "contig_len": "4245804",
         "protein_count_by_contig": "1383",
         "_deepnote_index_column": "4956"
        },
        {
         "org": "A. tubingensis",
         "contig_id": "NW_023336282.1",
         "contig_len": "5352870",
         "protein_count_by_contig": "1728",
         "_deepnote_index_column": "6339"
        },
        {
         "org": "A. tubingensis",
         "contig_id": "NW_023336283.1",
         "contig_len": "3153774",
         "protein_count_by_contig": "1036",
         "_deepnote_index_column": "8067"
        },
        {
         "org": "A. tubingensis",
         "contig_id": "NW_023336284.1",
         "contig_len": "609220",
         "protein_count_by_contig": "188",
         "_deepnote_index_column": "9103"
        },
        {
         "org": "A. tubingensis",
         "contig_id": "NW_023336285.1",
         "contig_len": "2136001",
         "protein_count_by_contig": "755",
         "_deepnote_index_column": "9291"
        },
        {
         "org": "A. tubingensis",
         "contig_id": "NW_023336286.1",
         "contig_len": "798263",
         "protein_count_by_contig": "259",
         "_deepnote_index_column": "10046"
        },
        {
         "org": "A. tubingensis",
         "contig_id": "NW_023336287.1",
         "contig_len": "1448135",
         "protein_count_by_contig": "460",
         "_deepnote_index_column": "10305"
        },
        {
         "org": "A. tubingensis",
         "contig_id": "NW_023336288.1",
         "contig_len": "231917",
         "protein_count_by_contig": "65",
         "_deepnote_index_column": "10765"
        },
        {
         "org": "A. tubingensis",
         "contig_id": "NW_023336289.1",
         "contig_len": "1979743",
         "protein_count_by_contig": "647",
         "_deepnote_index_column": "10830"
        }
       ],
       "rows_bottom": null
      },
      "text/plain": "                  org       contig_id  contig_len  protein_count_by_contig\n0         A. nidulans     NT_107008.1     1482181                      486\n486       A. nidulans     NT_107009.1     2200800                      689\n1175      A. nidulans     NW_101435.1        8226                        5\n1180      A. nidulans     NT_107005.1     1394314                      445\n1625      A. nidulans     NT_107012.1     2569337                      818\n...               ...             ...         ...                      ...\n9291   A. tubingensis  NW_023336285.1     2136001                      755\n10046  A. tubingensis  NW_023336286.1      798263                      259\n10305  A. tubingensis  NW_023336287.1     1448135                      460\n10765  A. tubingensis  NW_023336288.1      231917                       65\n10830  A. tubingensis  NW_023336289.1     1979743                      647\n\n[92 rows x 4 columns]",
      "text/html": "<div>\n<style scoped>\n    .dataframe tbody tr th:only-of-type {\n        vertical-align: middle;\n    }\n\n    .dataframe tbody tr th {\n        vertical-align: top;\n    }\n\n    .dataframe thead th {\n        text-align: right;\n    }\n</style>\n<table border=\"1\" class=\"dataframe\">\n  <thead>\n    <tr style=\"text-align: right;\">\n      <th></th>\n      <th>org</th>\n      <th>contig_id</th>\n      <th>contig_len</th>\n      <th>protein_count_by_contig</th>\n    </tr>\n  </thead>\n  <tbody>\n    <tr>\n      <th>0</th>\n      <td>A. nidulans</td>\n      <td>NT_107008.1</td>\n      <td>1482181</td>\n      <td>486</td>\n    </tr>\n    <tr>\n      <th>486</th>\n      <td>A. nidulans</td>\n      <td>NT_107009.1</td>\n      <td>2200800</td>\n      <td>689</td>\n    </tr>\n    <tr>\n      <th>1175</th>\n      <td>A. nidulans</td>\n      <td>NW_101435.1</td>\n      <td>8226</td>\n      <td>5</td>\n    </tr>\n    <tr>\n      <th>1180</th>\n      <td>A. nidulans</td>\n      <td>NT_107005.1</td>\n      <td>1394314</td>\n      <td>445</td>\n    </tr>\n    <tr>\n      <th>1625</th>\n      <td>A. nidulans</td>\n      <td>NT_107012.1</td>\n      <td>2569337</td>\n      <td>818</td>\n    </tr>\n    <tr>\n      <th>...</th>\n      <td>...</td>\n      <td>...</td>\n      <td>...</td>\n      <td>...</td>\n    </tr>\n    <tr>\n      <th>9291</th>\n      <td>A. tubingensis</td>\n      <td>NW_023336285.1</td>\n      <td>2136001</td>\n      <td>755</td>\n    </tr>\n    <tr>\n      <th>10046</th>\n      <td>A. tubingensis</td>\n      <td>NW_023336286.1</td>\n      <td>798263</td>\n      <td>259</td>\n    </tr>\n    <tr>\n      <th>10305</th>\n      <td>A. tubingensis</td>\n      <td>NW_023336287.1</td>\n      <td>1448135</td>\n      <td>460</td>\n    </tr>\n    <tr>\n      <th>10765</th>\n      <td>A. tubingensis</td>\n      <td>NW_023336288.1</td>\n      <td>231917</td>\n      <td>65</td>\n    </tr>\n    <tr>\n      <th>10830</th>\n      <td>A. tubingensis</td>\n      <td>NW_023336289.1</td>\n      <td>1979743</td>\n      <td>647</td>\n    </tr>\n  </tbody>\n</table>\n<p>92 rows × 4 columns</p>\n</div>"
     },
     "metadata": {}
    }
   ]
  },
  {
   "cell_type": "code",
   "metadata": {
    "tags": [],
    "cell_id": "00007-316a917d-c9aa-41de-bd9c-50921c47ec80",
    "deepnote_to_be_reexecuted": false,
    "source_hash": "2b42d385",
    "execution_start": 1635377208370,
    "execution_millis": 28,
    "deepnote_cell_type": "code"
   },
   "source": "\"\"\"\nWrite your comments\nhere\n\"\"\"\ndf_subset.groupby('org').agg(\n    all_proteins=('protein_count_by_contig', sum),\n    genome_size=('contig_len' , sum),\n    total_contig=('contig_id' , len)\n    \n)",
   "execution_count": null,
   "outputs": [
    {
     "output_type": "execute_result",
     "execution_count": 7,
     "data": {
      "application/vnd.deepnote.dataframe.v2+json": {
       "row_count": 2,
       "column_count": 3,
       "columns": [
        {
         "name": "all_proteins",
         "dtype": "int64",
         "stats": {
          "unique_count": 2,
          "nan_count": 0,
          "min": "9556",
          "max": "11477",
          "histogram": [
           {
            "bin_start": 9556,
            "bin_end": 9748.1,
            "count": 1
           },
           {
            "bin_start": 9748.1,
            "bin_end": 9940.2,
            "count": 0
           },
           {
            "bin_start": 9940.2,
            "bin_end": 10132.3,
            "count": 0
           },
           {
            "bin_start": 10132.3,
            "bin_end": 10324.4,
            "count": 0
           },
           {
            "bin_start": 10324.4,
            "bin_end": 10516.5,
            "count": 0
           },
           {
            "bin_start": 10516.5,
            "bin_end": 10708.6,
            "count": 0
           },
           {
            "bin_start": 10708.6,
            "bin_end": 10900.7,
            "count": 0
           },
           {
            "bin_start": 10900.7,
            "bin_end": 11092.8,
            "count": 0
           },
           {
            "bin_start": 11092.8,
            "bin_end": 11284.9,
            "count": 0
           },
           {
            "bin_start": 11284.9,
            "bin_end": 11477,
            "count": 1
           }
          ]
         }
        },
        {
         "name": "genome_size",
         "dtype": "int64",
         "stats": {
          "unique_count": 2,
          "nan_count": 0,
          "min": "30200029",
          "max": "35047229",
          "histogram": [
           {
            "bin_start": 30200029,
            "bin_end": 30684749,
            "count": 1
           },
           {
            "bin_start": 30684749,
            "bin_end": 31169469,
            "count": 0
           },
           {
            "bin_start": 31169469,
            "bin_end": 31654189,
            "count": 0
           },
           {
            "bin_start": 31654189,
            "bin_end": 32138909,
            "count": 0
           },
           {
            "bin_start": 32138909,
            "bin_end": 32623629,
            "count": 0
           },
           {
            "bin_start": 32623629,
            "bin_end": 33108349,
            "count": 0
           },
           {
            "bin_start": 33108349,
            "bin_end": 33593069,
            "count": 0
           },
           {
            "bin_start": 33593069,
            "bin_end": 34077789,
            "count": 0
           },
           {
            "bin_start": 34077789,
            "bin_end": 34562509,
            "count": 0
           },
           {
            "bin_start": 34562509,
            "bin_end": 35047229,
            "count": 1
           }
          ]
         }
        },
        {
         "name": "total_contig",
         "dtype": "int64",
         "stats": {
          "unique_count": 2,
          "nan_count": 0,
          "min": "15",
          "max": "77",
          "histogram": [
           {
            "bin_start": 15,
            "bin_end": 21.2,
            "count": 1
           },
           {
            "bin_start": 21.2,
            "bin_end": 27.4,
            "count": 0
           },
           {
            "bin_start": 27.4,
            "bin_end": 33.6,
            "count": 0
           },
           {
            "bin_start": 33.6,
            "bin_end": 39.8,
            "count": 0
           },
           {
            "bin_start": 39.8,
            "bin_end": 46,
            "count": 0
           },
           {
            "bin_start": 46,
            "bin_end": 52.2,
            "count": 0
           },
           {
            "bin_start": 52.2,
            "bin_end": 58.4,
            "count": 0
           },
           {
            "bin_start": 58.4,
            "bin_end": 64.6,
            "count": 0
           },
           {
            "bin_start": 64.6,
            "bin_end": 70.80000000000001,
            "count": 0
           },
           {
            "bin_start": 70.80000000000001,
            "bin_end": 77,
            "count": 1
           }
          ]
         }
        },
        {
         "name": "_deepnote_index_column",
         "dtype": "object"
        }
       ],
       "rows_top": [
        {
         "all_proteins": 9556,
         "genome_size": 30200029,
         "total_contig": 77,
         "_deepnote_index_column": "A. nidulans"
        },
        {
         "all_proteins": 11477,
         "genome_size": 35047229,
         "total_contig": 15,
         "_deepnote_index_column": "A. tubingensis"
        }
       ],
       "rows_bottom": null
      },
      "text/plain": "                all_proteins  genome_size  total_contig\norg                                                    \nA. nidulans             9556     30200029            77\nA. tubingensis         11477     35047229            15",
      "text/html": "<div>\n<style scoped>\n    .dataframe tbody tr th:only-of-type {\n        vertical-align: middle;\n    }\n\n    .dataframe tbody tr th {\n        vertical-align: top;\n    }\n\n    .dataframe thead th {\n        text-align: right;\n    }\n</style>\n<table border=\"1\" class=\"dataframe\">\n  <thead>\n    <tr style=\"text-align: right;\">\n      <th></th>\n      <th>all_proteins</th>\n      <th>genome_size</th>\n      <th>total_contig</th>\n    </tr>\n    <tr>\n      <th>org</th>\n      <th></th>\n      <th></th>\n      <th></th>\n    </tr>\n  </thead>\n  <tbody>\n    <tr>\n      <th>A. nidulans</th>\n      <td>9556</td>\n      <td>30200029</td>\n      <td>77</td>\n    </tr>\n    <tr>\n      <th>A. tubingensis</th>\n      <td>11477</td>\n      <td>35047229</td>\n      <td>15</td>\n    </tr>\n  </tbody>\n</table>\n</div>"
     },
     "metadata": {}
    }
   ]
  },
  {
   "cell_type": "code",
   "metadata": {
    "tags": [],
    "cell_id": "00008-a09ee519-4ce7-4b78-882a-0b5aaca4715e",
    "deepnote_to_be_reexecuted": false,
    "source_hash": "ea0878bf",
    "execution_start": 1635377208394,
    "execution_millis": 12430,
    "deepnote_cell_type": "code"
   },
   "source": "\"\"\"\nWrite your comments\nhere\n\"\"\"\ndef get_bgc_df(records, o):\n    results = []\n    for r in records:\n        for f in r.features:\n            if f.type == 'protocluster':\n                if f.qualifiers:\n                    tmp = f.qualifiers.get('product')\n                    if tmp:\n                        tmp = tmp[0]\n                        results.append({'org': o, 'product': tmp})\n\n    return pd.DataFrame(results)\n\n\ntubingensis = list(SeqIO.parse(\n    \"aspergillus_tubingensis.gbk\", \"genbank\")\n    )\ndf_tubingensis = get_bgc_df(tubingensis, 'A. tubingensis')\n\nnidulans = list(SeqIO.parse(\n    \"aspergillus_nidulans.gbk\", \"genbank\")\n    )\ndf_nidulans = get_bgc_df(nidulans, 'A. nidulans')\n\nbgc_df = pd.concat([df_tubingensis, df_nidulans])",
   "execution_count": null,
   "outputs": []
  },
  {
   "cell_type": "code",
   "metadata": {
    "tags": [],
    "cell_id": "00009-cac2ded1-55ad-407b-a055-bd1282e5a56c",
    "deepnote_to_be_reexecuted": false,
    "source_hash": "bbdaf540",
    "execution_start": 1635377220869,
    "execution_millis": 70,
    "deepnote_cell_type": "code"
   },
   "source": "\"\"\"\nWrite your comments\nhere\n\"\"\"\nbgc_overview = bgc_df.groupby(['org', 'product']).agg(product_count=('product', len)).reset_index()\n\nbgc_overview",
   "execution_count": null,
   "outputs": [
    {
     "output_type": "execute_result",
     "execution_count": 9,
     "data": {
      "application/vnd.deepnote.dataframe.v2+json": {
       "row_count": 14,
       "column_count": 3,
       "columns": [
        {
         "name": "org",
         "dtype": "object",
         "stats": {
          "unique_count": 2,
          "nan_count": 0,
          "categories": [
           {
            "name": "A. tubingensis",
            "count": 8
           },
           {
            "name": "A. nidulans",
            "count": 6
           }
          ]
         }
        },
        {
         "name": "product",
         "dtype": "object",
         "stats": {
          "unique_count": 8,
          "nan_count": 0,
          "categories": [
           {
            "name": "NRPS",
            "count": 2
           },
           {
            "name": "NRPS-like",
            "count": 2
           },
           {
            "name": "6 others",
            "count": 10
           }
          ]
         }
        },
        {
         "name": "product_count",
         "dtype": "int64",
         "stats": {
          "unique_count": 11,
          "nan_count": 0,
          "min": "1",
          "max": "39",
          "histogram": [
           {
            "bin_start": 1,
            "bin_end": 4.8,
            "count": 5
           },
           {
            "bin_start": 4.8,
            "bin_end": 8.6,
            "count": 1
           },
           {
            "bin_start": 8.6,
            "bin_end": 12.399999999999999,
            "count": 2
           },
           {
            "bin_start": 12.399999999999999,
            "bin_end": 16.2,
            "count": 1
           },
           {
            "bin_start": 16.2,
            "bin_end": 20,
            "count": 0
           },
           {
            "bin_start": 20,
            "bin_end": 23.799999999999997,
            "count": 4
           },
           {
            "bin_start": 23.799999999999997,
            "bin_end": 27.599999999999998,
            "count": 0
           },
           {
            "bin_start": 27.599999999999998,
            "bin_end": 31.4,
            "count": 0
           },
           {
            "bin_start": 31.4,
            "bin_end": 35.199999999999996,
            "count": 0
           },
           {
            "bin_start": 35.199999999999996,
            "bin_end": 39,
            "count": 1
           }
          ]
         }
        },
        {
         "name": "_deepnote_index_column",
         "dtype": "int64"
        }
       ],
       "rows_top": [
        {
         "org": "A. nidulans",
         "product": "NRPS",
         "product_count": 13,
         "_deepnote_index_column": 0
        },
        {
         "org": "A. nidulans",
         "product": "NRPS-like",
         "product_count": 11,
         "_deepnote_index_column": 1
        },
        {
         "org": "A. nidulans",
         "product": "T1PKS",
         "product_count": 23,
         "_deepnote_index_column": 2
        },
        {
         "org": "A. nidulans",
         "product": "betalactone",
         "product_count": 3,
         "_deepnote_index_column": 3
        },
        {
         "org": "A. nidulans",
         "product": "indole",
         "product_count": 5,
         "_deepnote_index_column": 4
        },
        {
         "org": "A. nidulans",
         "product": "terpene",
         "product_count": 9,
         "_deepnote_index_column": 5
        },
        {
         "org": "A. tubingensis",
         "product": "NRPS",
         "product_count": 20,
         "_deepnote_index_column": 6
        },
        {
         "org": "A. tubingensis",
         "product": "NRPS-like",
         "product_count": 20,
         "_deepnote_index_column": 7
        },
        {
         "org": "A. tubingensis",
         "product": "T1PKS",
         "product_count": 39,
         "_deepnote_index_column": 8
        },
        {
         "org": "A. tubingensis",
         "product": "T3PKS",
         "product_count": 1,
         "_deepnote_index_column": 9
        },
        {
         "org": "A. tubingensis",
         "product": "betalactone",
         "product_count": 1,
         "_deepnote_index_column": 10
        },
        {
         "org": "A. tubingensis",
         "product": "indole",
         "product_count": 2,
         "_deepnote_index_column": 11
        },
        {
         "org": "A. tubingensis",
         "product": "siderophore",
         "product_count": 2,
         "_deepnote_index_column": 12
        },
        {
         "org": "A. tubingensis",
         "product": "terpene",
         "product_count": 21,
         "_deepnote_index_column": 13
        }
       ],
       "rows_bottom": null
      },
      "text/plain": "               org      product  product_count\n0      A. nidulans         NRPS             13\n1      A. nidulans    NRPS-like             11\n2      A. nidulans        T1PKS             23\n3      A. nidulans  betalactone              3\n4      A. nidulans       indole              5\n5      A. nidulans      terpene              9\n6   A. tubingensis         NRPS             20\n7   A. tubingensis    NRPS-like             20\n8   A. tubingensis        T1PKS             39\n9   A. tubingensis        T3PKS              1\n10  A. tubingensis  betalactone              1\n11  A. tubingensis       indole              2\n12  A. tubingensis  siderophore              2\n13  A. tubingensis      terpene             21",
      "text/html": "<div>\n<style scoped>\n    .dataframe tbody tr th:only-of-type {\n        vertical-align: middle;\n    }\n\n    .dataframe tbody tr th {\n        vertical-align: top;\n    }\n\n    .dataframe thead th {\n        text-align: right;\n    }\n</style>\n<table border=\"1\" class=\"dataframe\">\n  <thead>\n    <tr style=\"text-align: right;\">\n      <th></th>\n      <th>org</th>\n      <th>product</th>\n      <th>product_count</th>\n    </tr>\n  </thead>\n  <tbody>\n    <tr>\n      <th>0</th>\n      <td>A. nidulans</td>\n      <td>NRPS</td>\n      <td>13</td>\n    </tr>\n    <tr>\n      <th>1</th>\n      <td>A. nidulans</td>\n      <td>NRPS-like</td>\n      <td>11</td>\n    </tr>\n    <tr>\n      <th>2</th>\n      <td>A. nidulans</td>\n      <td>T1PKS</td>\n      <td>23</td>\n    </tr>\n    <tr>\n      <th>3</th>\n      <td>A. nidulans</td>\n      <td>betalactone</td>\n      <td>3</td>\n    </tr>\n    <tr>\n      <th>4</th>\n      <td>A. nidulans</td>\n      <td>indole</td>\n      <td>5</td>\n    </tr>\n    <tr>\n      <th>5</th>\n      <td>A. nidulans</td>\n      <td>terpene</td>\n      <td>9</td>\n    </tr>\n    <tr>\n      <th>6</th>\n      <td>A. tubingensis</td>\n      <td>NRPS</td>\n      <td>20</td>\n    </tr>\n    <tr>\n      <th>7</th>\n      <td>A. tubingensis</td>\n      <td>NRPS-like</td>\n      <td>20</td>\n    </tr>\n    <tr>\n      <th>8</th>\n      <td>A. tubingensis</td>\n      <td>T1PKS</td>\n      <td>39</td>\n    </tr>\n    <tr>\n      <th>9</th>\n      <td>A. tubingensis</td>\n      <td>T3PKS</td>\n      <td>1</td>\n    </tr>\n    <tr>\n      <th>10</th>\n      <td>A. tubingensis</td>\n      <td>betalactone</td>\n      <td>1</td>\n    </tr>\n    <tr>\n      <th>11</th>\n      <td>A. tubingensis</td>\n      <td>indole</td>\n      <td>2</td>\n    </tr>\n    <tr>\n      <th>12</th>\n      <td>A. tubingensis</td>\n      <td>siderophore</td>\n      <td>2</td>\n    </tr>\n    <tr>\n      <th>13</th>\n      <td>A. tubingensis</td>\n      <td>terpene</td>\n      <td>21</td>\n    </tr>\n  </tbody>\n</table>\n</div>"
     },
     "metadata": {}
    }
   ]
  },
  {
   "cell_type": "markdown",
   "source": "<a style='text-decoration:none;line-height:16px;display:flex;color:#5B5B62;padding:10px;justify-content:end;' href='https://deepnote.com?utm_source=created-in-deepnote-cell&projectId=c9c5a4ed-74b7-4c42-aa37-668590618479' target=\"_blank\">\n<img alt='Created in deepnote.com' style='display:inline;max-height:16px;margin:0px;margin-right:7.5px;' src='data:image/svg+xml;base64,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' > </img>\nCreated in <span style='font-weight:600;margin-left:4px;'>Deepnote</span></a>",
   "metadata": {
    "tags": [],
    "created_in_deepnote_cell": true,
    "deepnote_cell_type": "markdown"
   }
  }
 ],
 "nbformat": 4,
 "nbformat_minor": 2,
 "metadata": {
  "orig_nbformat": 2,
  "deepnote": {
   "is_reactive": false
  },
  "deepnote_notebook_id": "3261194f-0d6f-4b79-9ee1-c3b1f5617d32",
  "deepnote_execution_queue": []
 }
}